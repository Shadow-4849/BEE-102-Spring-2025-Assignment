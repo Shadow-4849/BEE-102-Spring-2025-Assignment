{
 "cells": [
  {
   "cell_type": "code",
   "execution_count": 31,
   "id": "4d92f8e4-5132-4b3a-b8fc-3919c437c708",
   "metadata": {},
   "outputs": [
    {
     "name": "stdout",
     "output_type": "stream",
     "text": [
      "File has been saved to singleline_output.fasta\n"
     ]
    }
   ],
   "source": [
    "def process_fasta(input_file):\n",
    "    with open(input_file, 'r') as input_handle, open('singleline_output.fasta', 'w') as output_handle:\n",
    "        # Empty string for storing the sequence\n",
    "        sequence = ''\n",
    "        \n",
    "        for line in input_handle:\n",
    "            # Remove leading and trailing whitespace\n",
    "            line = line.strip()\n",
    "            \n",
    "            # Header line -> line starts with '>', otherwise part of the sequence\n",
    "            if line[0] == '>':\n",
    "                # Write the previous sequence to the output file before writing the new header\n",
    "                if len(sequence) > 0:\n",
    "                    output_handle.write(sequence + '\\n')\n",
    "                    sequence = ''\n",
    "                \n",
    "                output_handle.write(line + '\\n')\n",
    "            else:\n",
    "                # If it's part of the sequence, add it to the sequence string    \n",
    "                sequence += line\n",
    "                \n",
    "        # After reading all lines, write the last sequence to the output file, if it exists\n",
    "        if len(sequence) > 0:\n",
    "            output_handle.write(sequence + '\\n')\n",
    "\n",
    "# Run the function with the input file name\n",
    "process_fasta('multiline_input.fasta')\n",
    "print(\"File has been saved to singleline_output.fasta\")\n"
   ]
  },
  {
   "cell_type": "code",
   "execution_count": null,
   "id": "f76d1f1d-b735-4076-9328-37ec3c555fc1",
   "metadata": {},
   "outputs": [],
   "source": []
  }
 ],
 "metadata": {
  "kernelspec": {
   "display_name": "Python 3 (ipykernel)",
   "language": "python",
   "name": "python3"
  },
  "language_info": {
   "codemirror_mode": {
    "name": "ipython",
    "version": 3
   },
   "file_extension": ".py",
   "mimetype": "text/x-python",
   "name": "python",
   "nbconvert_exporter": "python",
   "pygments_lexer": "ipython3",
   "version": "3.12.3"
  }
 },
 "nbformat": 4,
 "nbformat_minor": 5
}

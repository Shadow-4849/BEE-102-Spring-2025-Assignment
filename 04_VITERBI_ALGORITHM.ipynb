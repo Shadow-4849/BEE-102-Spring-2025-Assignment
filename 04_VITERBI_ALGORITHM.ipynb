{
 "cells": [
  {
   "cell_type": "code",
   "execution_count": 32,
   "id": "f153326a-28bb-418a-ad83-bd6f218f74ee",
   "metadata": {},
   "outputs": [],
   "source": [
    "import numpy as np\n",
    "import math"
   ]
  },
  {
   "cell_type": "code",
   "execution_count": 35,
   "id": "06ccc366-ffd5-4636-8120-9caec5e88423",
   "metadata": {},
   "outputs": [],
   "source": [
    "NUCLEOTIDES = ['A', 'C', 'G', 'T']\n",
    "STATES = ['E', '5', 'I']\n",
    "\n",
    "# Initial Probabilities\n",
    "INIT_PROB = {'E': 1.0, '5': 0.0, 'I': 0.0}\n",
    "\n",
    "# Transition Probabilities\n",
    "TRANS_PROB = {\n",
    "    'Start': {'E':1.0, '5': 0, 'I': 0.0, 'End':0.0},\n",
    "    'E': {'E': 0.9, '5': 0.1 , 'I': 0.0, 'End': 0.0},\n",
    "    '5': {'E': 0.0, '5': 0.0 , 'I': 1.0, 'End': 0.0},\n",
    "    'I': {'E': 0.0, '5': 0.0 , 'I': 0.9, 'End': 0.1}\n",
    "}\n",
    "\n",
    "# Emission Probabilities\n",
    "EMISSION_PROB = {\n",
    "    'E': {'A': 0.25, 'C': 0.25, 'G': 0.25, 'T': 0.25},\n",
    "    '5': {'A': 0.05, 'C': 0.00, 'G': 0.95, 'T': 0.00},\n",
    "    'I': {'A': 0.4, 'C': 0.1, 'G': 0.1, 'T': 0.4},\n",
    "}\n",
    "\n",
    "def log(x):\n",
    "    return -math.inf if x == 0 else math.log(x)\n",
    "\n",
    "# Log Probability Calculation\n",
    "def LOG_PROB(state_path, observed_sequence):\n",
    "    if len(state_path) != len(observed_sequence):\n",
    "        raise ValueError(\"The length of the observed and state sequences must match.\")\n",
    "    \n",
    "    sequence_length = len(observed_sequence)\n",
    "    log_probability = 0.0\n",
    "    previous_state = 'Start'\n",
    "\n",
    "    for index, (current_state, nucleotide) in enumerate(zip(state_path, observed_sequence)):\n",
    "        transition_p = TRANS_PROB[previous_state][current_state]\n",
    "        emission_p = EMISSION_PROB[current_state][nucleotide]\n",
    "        log_probability += log(transition_p) + log(emission_p)\n",
    "        previous_state = current_state\n",
    "\n",
    "    # Final transition to 'End' state if last state is 'I'\n",
    "    if previous_state == 'I':\n",
    "        log_probability += log(TRANS_PROB[previous_state]['End'])\n",
    "\n",
    "    return log_probability\n"
   ]
  },
  {
   "cell_type": "code",
   "execution_count": 36,
   "id": "b3ce942a-b0be-4e1c-b541-8cff7655a608",
   "metadata": {},
   "outputs": [],
   "source": [
    "def VITERBI(observed_sequence):\n",
    "    num_states = len(STATES)\n",
    "    sequence_length = len(observed_sequence)\n",
    "\n",
    "    # Viterbi matrix to store log probabilities\n",
    "    viterbi_matrix = np.full((num_states, sequence_length), -np.inf)\n",
    "\n",
    "    # Backpointer matrix to track the optimal path\n",
    "    backpointer = np.zeros((num_states, sequence_length), dtype=int)\n",
    "\n",
    "    # Map state to index for easy reference\n",
    "    state_index = {state: idx for idx, state in enumerate(STATES)}\n",
    "\n",
    "    # Initialization: time step 0\n",
    "    for i, state in enumerate(STATES):\n",
    "        viterbi_matrix[i, 0] = log(INIT_PROB[state]) + log(EMISSION_PROB[state][observed_sequence[0]])\n",
    "\n",
    "    # Dynamic programming: time steps 1 to T-1\n",
    "    for t in range(1, sequence_length):\n",
    "        for curr_idx, curr_state in enumerate(STATES):\n",
    "            max_log_prob = -math.inf\n",
    "            best_prev_idx = 0\n",
    "\n",
    "            for prev_idx, prev_state in enumerate(STATES):\n",
    "                transition_prob = log(TRANS_PROB[prev_state][curr_state])\n",
    "                candidate_log_prob = viterbi_matrix[prev_idx, t - 1] + transition_prob\n",
    "\n",
    "                if candidate_log_prob > max_log_prob:\n",
    "                    max_log_prob = candidate_log_prob\n",
    "                    best_prev_idx = prev_idx\n",
    "\n",
    "            emission_prob = log(EMISSION_PROB[curr_state][observed_sequence[t]])\n",
    "            viterbi_matrix[curr_idx, t] = max_log_prob + emission_prob\n",
    "            backpointer[curr_idx, t] = best_prev_idx\n",
    "\n",
    "    # Backtrack from the last column to build the best path\n",
    "    best_last_state = np.argmax(viterbi_matrix[:, -1])\n",
    "    best_path = [STATES[best_last_state]]\n",
    "\n",
    "    for t in range(sequence_length - 1, 0, -1):\n",
    "        best_last_state = backpointer[best_last_state, t]\n",
    "        best_path.insert(0, STATES[best_last_state])\n",
    "\n",
    "    # Return the best path and the highest log probability\n",
    "    best_log_prob = np.max(viterbi_matrix[:, -1])\n",
    "    return best_path, best_log_prob\n"
   ]
  },
  {
   "cell_type": "code",
   "execution_count": 38,
   "id": "c909f781-420c-445d-ba8a-657811b0c5a8",
   "metadata": {},
   "outputs": [
    {
     "name": "stdout",
     "output_type": "stream",
     "text": [
      "Most likely state path:\n",
      "EEEEEEEEEEEEEEEEEEEEEEEEEE\n",
      "\n",
      "Log probability of this path:\n",
      "-38.677666280562796\n"
     ]
    }
   ],
   "source": [
    "# Testing on sequence\n",
    "obs_seq = \"CTTCATGTGAAAGCAGACGTAAGTCA\"\n",
    "most_likely_path, log_probability = VITERBI(obs_seq)\n",
    "\n",
    "print(\"Most likely state path:\")\n",
    "print(\"\".join(most_likely_path))\n",
    "print(\"\\nLog probability of this path:\")\n",
    "print(log_probability)\n"
   ]
  },
  {
   "cell_type": "code",
   "execution_count": null,
   "id": "6cc46c0f-34c6-4d09-a8db-dac311818dc4",
   "metadata": {},
   "outputs": [],
   "source": []
  }
 ],
 "metadata": {
  "kernelspec": {
   "display_name": "Python 3 (ipykernel)",
   "language": "python",
   "name": "python3"
  },
  "language_info": {
   "codemirror_mode": {
    "name": "ipython",
    "version": 3
   },
   "file_extension": ".py",
   "mimetype": "text/x-python",
   "name": "python",
   "nbconvert_exporter": "python",
   "pygments_lexer": "ipython3",
   "version": "3.12.3"
  }
 },
 "nbformat": 4,
 "nbformat_minor": 5
}
